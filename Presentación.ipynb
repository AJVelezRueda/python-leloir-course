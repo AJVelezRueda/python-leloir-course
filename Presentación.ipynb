{
 "cells": [
  {
   "cell_type": "markdown",
   "metadata": {
    "slideshow": {
     "slide_type": "slide"
    }
   },
   "source": [
    "# Bienvenidos al curso de Python\n",
    "## ¿Por qué python?\n",
    "* Easy to learn (hard to master)\n",
    "* Es rápido escribir código\n",
    "* Muchos recursos disponibles"
   ]
  },
  {
   "cell_type": "markdown",
   "metadata": {
    "slideshow": {
     "slide_type": "slide"
    }
   },
   "source": [
    "# Distribuciones de Python y herramientas\n",
    "## Python \"oficial\" ( http://www.python.org)\n",
    "* La más actualizada\n",
    "\n",
    "## Anaconda (https://anaconda.org/)\n",
    "* Contiene paquetes compilados para diferentes sistemas\n",
    "* Suele ser más fácil de usar en Windows."
   ]
  },
  {
   "cell_type": "markdown",
   "metadata": {
    "slideshow": {
     "slide_type": "slide"
    }
   },
   "source": [
    "## Jupyter notebook\n",
    "* Permite registrar el código y los resultados parciales que se obtienen, junto con documentación.\n",
    "* Muy útil para hacer análisis de datos.\n",
    "\n",
    "## Entornos de desarrollo (IDE)\n",
    "* Ofrecen muchas herramientas: análisis de códido, depuración, integración con repositorios, etc.\n",
    "* Necesario para desarrollar aplicaciones en python:\n",
    " * pycharm\n",
    " * Eclipse + pydev\n",
    " * atom\n",
    " * VScode"
   ]
  },
  {
   "cell_type": "markdown",
   "metadata": {
    "slideshow": {
     "slide_type": "slide"
    }
   },
   "source": [
    "## Usando python\n",
    "Python se puede utilizar de forma interactiva ( dentro de la consola de python o jupyter)\n",
    "\n",
    "```\n",
    ">>> a = 'hola'\n",
    ">>> b = 'chau'\n",
    ">>> print a\n",
    "hola\n",
    ">>> print b\n",
    "chau\n",
    "```\n",
    "... o ejecutando scripts en la consola del sistema operativo. \n",
    "```\n",
    "$ python mi_script.py \n",
    "```\n"
   ]
  },
  {
   "cell_type": "markdown",
   "metadata": {
    "slideshow": {
     "slide_type": "slide"
    }
   },
   "source": [
    "## Jupyter\n",
    "Jupyter es una consola interactiva para diversos lenguajes, principalmente Julia (IJulia), Python (IPython) y R.\n",
    "Permite integrar código con sus resultados, anotaciones, imágenes, etc. Finalmente se obtiene una **notebook** que puede compartirse para que otros la ejecuten.\n",
    "\n",
    "Los elementos básicos de jupyter son **celdas**, que pueden ser de código o de comentarios. Cada celda se puede ejecutar individualmente y el resultado se registra debajo de cada celda. \n",
    "\n",
    "Las céldas de comentarios se pueden escribir en un formato se llamado **markdown**"
   ]
  },
  {
   "cell_type": "markdown",
   "metadata": {
    "slideshow": {
     "slide_type": "slide"
    }
   },
   "source": [
    "# El 'Hola mundo' de Python\n",
    "## El primer 'Hola mundo'"
   ]
  },
  {
   "cell_type": "code",
   "execution_count": 4,
   "metadata": {
    "scrolled": true,
    "slideshow": {
     "slide_type": "fragment"
    }
   },
   "outputs": [
    {
     "name": "stdout",
     "output_type": "stream",
     "text": [
      "Hola mundo!\n"
     ]
    }
   ],
   "source": [
    "# Esta línea es un comentario.\n",
    "print(\"Hola mundo!\")"
   ]
  },
  {
   "cell_type": "markdown",
   "metadata": {
    "slideshow": {
     "slide_type": "fragment"
    }
   },
   "source": [
    "\"hola mundo!\" es un cadena de caracteres o **string**.\n",
    "\n",
    "**print** es una función. \n",
    "Las funciones en general reciben argumentos entre paréntesis, realizan alguna acción y devuelven un valor."
   ]
  },
  {
   "cell_type": "markdown",
   "metadata": {
    "slideshow": {
     "slide_type": "slide"
    }
   },
   "source": [
    "## El segundo 'Hola mundo'"
   ]
  },
  {
   "cell_type": "code",
   "execution_count": 5,
   "metadata": {
    "scrolled": true,
    "slideshow": {
     "slide_type": "fragment"
    }
   },
   "outputs": [
    {
     "name": "stdout",
     "output_type": "stream",
     "text": [
      "Hola mundo!\n"
     ]
    }
   ],
   "source": [
    "saludo = \"Hola mundo!\"\n",
    "print(saludo)"
   ]
  },
  {
   "cell_type": "markdown",
   "metadata": {
    "slideshow": {
     "slide_type": "fragment"
    }
   },
   "source": [
    "**saludo** es un variable a la que se le está asignando el **string** \"Hola mundo!\""
   ]
  },
  {
   "cell_type": "markdown",
   "metadata": {
    "slideshow": {
     "slide_type": "slide"
    }
   },
   "source": [
    "## Variables, valores y tipos \n",
    "### Todas las variables tienen un valor asignado y todos los valores tienen un tipo asociado."
   ]
  },
  {
   "cell_type": "code",
   "execution_count": 10,
   "metadata": {
    "slideshow": {
     "slide_type": "fragment"
    }
   },
   "outputs": [
    {
     "name": "stdout",
     "output_type": "stream",
     "text": [
      "<type 'int'>\n",
      "<type 'str'>\n"
     ]
    }
   ],
   "source": [
    "variable1 = 1              \n",
    "variable2 = 'HOLA'         \n",
    "variable3 = variable1 + 1\n",
    "print(type(variable1))\n",
    "print(type(variable2))"
   ]
  },
  {
   "cell_type": "markdown",
   "metadata": {
    "slideshow": {
     "slide_type": "fragment"
    }
   },
   "source": [
    "* 1 es un valor de tipo **entero** (int). \n",
    "* 'hola' es un valor de tipo **string** (str).\n",
    "* **type** es una función de devuelve el tipo de un valor."
   ]
  },
  {
   "cell_type": "markdown",
   "metadata": {
    "slideshow": {
     "slide_type": "subslide"
    }
   },
   "source": [
    "### Pero las variables no tienen un tipo. "
   ]
  },
  {
   "cell_type": "code",
   "execution_count": 11,
   "metadata": {
    "slideshow": {
     "slide_type": "fragment"
    }
   },
   "outputs": [],
   "source": [
    "variable1 = 1              \n",
    "variable1 = 'HOLA'"
   ]
  },
  {
   "cell_type": "markdown",
   "metadata": {
    "slideshow": {
     "slide_type": "fragment"
    }
   },
   "source": [
    "La variable **variable1** no está 'atada' a un tipo específico, como sucede en otros lenguajes de programación."
   ]
  },
  {
   "cell_type": "markdown",
   "metadata": {},
   "source": [
    "## Operadores"
   ]
  },
  {
   "cell_type": "markdown",
   "metadata": {
    "slideshow": {
     "slide_type": "slide"
    }
   },
   "source": [
    "## Estructuras de datos\n",
    "\n",
    "Las variables que vimos hasta ahora son sencillas y contienen un único **dato**.\n",
    "Python permite usar estructuras de datos más complejas que permiten almacenar y organizar colecciones de datos.\n",
    "Algunas de estas estructuras de datos son:\n",
    "* tuplas\n",
    "* listas\n",
    "* diccionarios\n",
    "* sets"
   ]
  },
  {
   "cell_type": "markdown",
   "metadata": {
    "slideshow": {
     "slide_type": "slide"
    }
   },
   "source": [
    "### Tuplas\n",
    "Agrupamiento ordenado de valores, usualmente pocos. Los valores no tienen que ser del mismo tipo. Las tuplas son inmutables."
   ]
  },
  {
   "cell_type": "code",
   "execution_count": 13,
   "metadata": {},
   "outputs": [
    {
     "name": "stdout",
     "output_type": "stream",
     "text": [
      "1\n"
     ]
    }
   ],
   "source": [
    "t2 = (1,2)   # (1,2) es un tupla\n",
    "t3 = (1,2,3) # (1,2,3) es otra tupla\n",
    "print t2[0]"
   ]
  },
  {
   "cell_type": "code",
   "execution_count": 14,
   "metadata": {},
   "outputs": [
    {
     "ename": "TypeError",
     "evalue": "'tuple' object does not support item assignment",
     "output_type": "error",
     "traceback": [
      "\u001b[0;31m---------------------------------------------------------------------------\u001b[0m",
      "\u001b[0;31mTypeError\u001b[0m                                 Traceback (most recent call last)",
      "\u001b[0;32m<ipython-input-14-20b69b508496>\u001b[0m in \u001b[0;36m<module>\u001b[0;34m()\u001b[0m\n\u001b[1;32m      1\u001b[0m \u001b[0mt2\u001b[0m \u001b[0;34m=\u001b[0m \u001b[0;34m(\u001b[0m\u001b[0;36m1\u001b[0m\u001b[0;34m,\u001b[0m\u001b[0;36m2\u001b[0m\u001b[0;34m)\u001b[0m\u001b[0;34m\u001b[0m\u001b[0m\n\u001b[0;32m----> 2\u001b[0;31m \u001b[0mt2\u001b[0m\u001b[0;34m[\u001b[0m\u001b[0;36m0\u001b[0m\u001b[0;34m]\u001b[0m \u001b[0;34m=\u001b[0m \u001b[0;36m2\u001b[0m\u001b[0;34m\u001b[0m\u001b[0m\n\u001b[0m",
      "\u001b[0;31mTypeError\u001b[0m: 'tuple' object does not support item assignment"
     ]
    }
   ],
   "source": [
    "t2 = (1,2)\n",
    "t2[0] = 2\n",
    "# No se puede asignar uno de los valores de una tupla."
   ]
  },
  {
   "cell_type": "markdown",
   "metadata": {
    "slideshow": {
     "slide_type": "slide"
    }
   },
   "source": [
    "### Listas\n",
    "Agrupamiento ordenado de valores, usualmente muchos. Los valores no tienen que ser del mismo tipo. Las listas son mutables. El número de orden un de un valor en la lista es su **índice**, el primer valor tiene índice **cero**.\n"
   ]
  },
  {
   "cell_type": "code",
   "execution_count": 49,
   "metadata": {
    "slideshow": {
     "slide_type": "fragment"
    }
   },
   "outputs": [
    {
     "name": "stdout",
     "output_type": "stream",
     "text": [
      "[1, 2, 3]\n",
      "<type 'list'>\n",
      "[0, 1, 2, 3, 4, 5, 6, 7, 8, 9]\n",
      "<type 'list'>\n",
      "5\n"
     ]
    }
   ],
   "source": [
    "listaSimple = [1,2,3]\n",
    "print(listaSimple)\n",
    "print(type(listaSimple))\n",
    "delCeroAlNueve = range(10)\n",
    "print(delCeroAlNueve)\n",
    "print(type(delCeroAlNueve))\n",
    "print(delCeroAlNueve[5])\n"
   ]
  },
  {
   "cell_type": "code",
   "execution_count": 42,
   "metadata": {
    "slideshow": {
     "slide_type": "fragment"
    }
   },
   "outputs": [
    {
     "name": "stdout",
     "output_type": "stream",
     "text": [
      "[5, 2, 3]\n"
     ]
    }
   ],
   "source": [
    "listaSimple[0] = 5\n",
    "# Los valores de las listas pueden reasignarse\n",
    "print(listaSimple)"
   ]
  },
  {
   "cell_type": "markdown",
   "metadata": {
    "slideshow": {
     "slide_type": "slide"
    }
   },
   "source": [
    "### Agregar y quitar elementos de una lista\n"
   ]
  },
  {
   "cell_type": "code",
   "execution_count": 54,
   "metadata": {
    "slideshow": {
     "slide_type": "subslide"
    }
   },
   "outputs": [
    {
     "name": "stdout",
     "output_type": "stream",
     "text": [
      "[1, 2, 3, 18, 18]\n",
      "[1, 2, 3, 18, 0, 18]\n"
     ]
    }
   ],
   "source": [
    "listaSimple.append(18)\n",
    "print(listaSimple)\n",
    "listaSimple.insert(4,0)\n",
    "print(listaSimple)"
   ]
  },
  {
   "cell_type": "markdown",
   "metadata": {
    "slideshow": {
     "slide_type": "fragment"
    }
   },
   "source": [
    "* La función **append** agrega un elemento a una lista.\n",
    "* ¿Por qué está el punto entre el nombre de la variable y **append**?"
   ]
  },
  {
   "cell_type": "code",
   "execution_count": 48,
   "metadata": {
    "slideshow": {
     "slide_type": "subslide"
    }
   },
   "outputs": [
    {
     "name": "stdout",
     "output_type": "stream",
     "text": [
      "[5, 2, 18]\n",
      "[5, 2]\n"
     ]
    }
   ],
   "source": [
    "print(listaSimple)\n",
    "listaSimple.remove(18)\n",
    "print(listaSimple)"
   ]
  },
  {
   "cell_type": "markdown",
   "metadata": {
    "slideshow": {
     "slide_type": "fragment"
    }
   },
   "source": [
    "* La función **remove** elimina un elemento a una lista."
   ]
  },
  {
   "cell_type": "code",
   "execution_count": 57,
   "metadata": {
    "slideshow": {
     "slide_type": "fragment"
    }
   },
   "outputs": [
    {
     "name": "stdout",
     "output_type": "stream",
     "text": [
      "[1, 3, 2]\n"
     ]
    }
   ],
   "source": [
    "otraLista = [1,2,3,2]\n",
    "otraLista.remove(2)\n",
    "print(otraLista)"
   ]
  },
  {
   "cell_type": "markdown",
   "metadata": {
    "slideshow": {
     "slide_type": "fragment"
    }
   },
   "source": [
    "* Si el valor que se quiere eliminar está más de una vez, solo se elimina el primero"
   ]
  },
  {
   "cell_type": "code",
   "execution_count": 58,
   "metadata": {
    "slideshow": {
     "slide_type": "slide"
    }
   },
   "outputs": [
    {
     "name": "stdout",
     "output_type": "stream",
     "text": [
      "1\n",
      "[3, 2]\n"
     ]
    }
   ],
   "source": [
    "valorEliminado = otraLista.pop(0)\n",
    "print(valorEliminado)\n",
    "print(otraLista)"
   ]
  },
  {
   "cell_type": "markdown",
   "metadata": {},
   "source": [
    "* La función **pop** elimina un valor por el índice."
   ]
  },
  {
   "cell_type": "markdown",
   "metadata": {
    "slideshow": {
     "slide_type": "slide"
    }
   },
   "source": [
    "### Selecciones de sublistas"
   ]
  },
  {
   "cell_type": "code",
   "execution_count": 68,
   "metadata": {
    "slideshow": {
     "slide_type": "fragment"
    }
   },
   "outputs": [
    {
     "name": "stdout",
     "output_type": "stream",
     "text": [
      "['a', 'b']\n"
     ]
    }
   ],
   "source": [
    "listaSimple = ['a','b','c','d','e']\n",
    "subLista = listaSimple[0:2]\n",
    "# Para obtener una sublista se debe indicar el índice del primer valor incluido y el índice del primer valor excluido\n",
    "print(subLista)"
   ]
  },
  {
   "cell_type": "code",
   "execution_count": 69,
   "metadata": {},
   "outputs": [
    {
     "data": {
      "text/plain": [
       "['a', 'b']"
      ]
     },
     "execution_count": 69,
     "metadata": {},
     "output_type": "execute_result"
    }
   ],
   "source": [
    "listaSimple[:2]\n",
    "# Si el primer índice es 0, puede obviarse"
   ]
  },
  {
   "cell_type": "code",
   "execution_count": 70,
   "metadata": {},
   "outputs": [
    {
     "data": {
      "text/plain": [
       "['d', 'e']"
      ]
     },
     "execution_count": 70,
     "metadata": {},
     "output_type": "execute_result"
    }
   ],
   "source": [
    "listaSimple[3:]\n",
    "# Si el último índice es la longitud de la lista, también puede obviarse"
   ]
  },
  {
   "cell_type": "markdown",
   "metadata": {
    "slideshow": {
     "slide_type": "slide"
    }
   },
   "source": [
    "### Concatenación de listas\n"
   ]
  },
  {
   "cell_type": "code",
   "execution_count": 71,
   "metadata": {},
   "outputs": [
    {
     "name": "stdout",
     "output_type": "stream",
     "text": [
      "[0, 1, 2, 3, 4, 5, 6]\n"
     ]
    }
   ],
   "source": [
    "listaSimple = [0,1,2,3] + [4,5,6]\n",
    "print(listaSimple)"
   ]
  },
  {
   "cell_type": "markdown",
   "metadata": {},
   "source": [
    "El operador '+' permite concatenar dos listas."
   ]
  },
  {
   "cell_type": "markdown",
   "metadata": {
    "slideshow": {
     "slide_type": "slide"
    }
   },
   "source": [
    "### Otras funciones de listas importantes \n",
    "* extend = agrega elementos de una lista a otra.\n",
    "* index = devuelve el índice en la lista de un valor dado.\n",
    "* count = devuelve la cantidad de elementos en la lista.\n",
    "* sort = ordena los valores de la lista\n",
    "* reverse = invierte los valores de una lista"
   ]
  },
  {
   "cell_type": "markdown",
   "metadata": {
    "slideshow": {
     "slide_type": "slide"
    }
   },
   "source": [
    "### Diccionarios\n",
    "Los diccionarios son agrupaciones de datos del tipos Clave -> Valor. No tienen orden."
   ]
  },
  {
   "cell_type": "code",
   "execution_count": 72,
   "metadata": {},
   "outputs": [
    {
     "name": "stdout",
     "output_type": "stream",
     "text": [
      "José Pérez\n"
     ]
    }
   ],
   "source": [
    "personas = dict()\n",
    "# la función dict crea un nuevo diccionario vacio.\n",
    "personas[20000001] = 'José Pérez'\n",
    "personas[20000002] = 'Julián Álvarez'\n",
    "# Se guardan los nombres de personas usando como clave el DNI.\n",
    "print(personas[20000001])\n"
   ]
  },
  {
   "cell_type": "code",
   "execution_count": null,
   "metadata": {},
   "outputs": [],
   "source": []
  }
 ],
 "metadata": {
  "celltoolbar": "Slideshow",
  "kernelspec": {
   "display_name": "Python 2",
   "language": "python",
   "name": "python2"
  },
  "language_info": {
   "codemirror_mode": {
    "name": "ipython",
    "version": 2
   },
   "file_extension": ".py",
   "mimetype": "text/x-python",
   "name": "python",
   "nbconvert_exporter": "python",
   "pygments_lexer": "ipython2",
   "version": "2.7.13"
  }
 },
 "nbformat": 4,
 "nbformat_minor": 2
}
